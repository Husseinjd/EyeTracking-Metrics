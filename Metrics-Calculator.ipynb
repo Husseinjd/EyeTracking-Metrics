{
 "cells": [
  {
   "cell_type": "code",
   "execution_count": 1,
   "metadata": {},
   "outputs": [],
   "source": [
    "import numpy as np\n",
    "import pandas as pd\n",
    "%load_ext autoreload\n",
    "%autoreload 2"
   ]
  },
  {
   "cell_type": "code",
   "execution_count": 2,
   "metadata": {},
   "outputs": [],
   "source": [
    "file_name = 'data/test_data.xlsx' \n",
    "df = pd.read_excel(file_name,header=5)"
   ]
  },
  {
   "cell_type": "code",
   "execution_count": 3,
   "metadata": {},
   "outputs": [
    {
     "data": {
      "text/html": [
       "<div>\n",
       "<style scoped>\n",
       "    .dataframe tbody tr th:only-of-type {\n",
       "        vertical-align: middle;\n",
       "    }\n",
       "\n",
       "    .dataframe tbody tr th {\n",
       "        vertical-align: top;\n",
       "    }\n",
       "\n",
       "    .dataframe thead th {\n",
       "        text-align: right;\n",
       "    }\n",
       "</style>\n",
       "<table border=\"1\" class=\"dataframe\">\n",
       "  <thead>\n",
       "    <tr style=\"text-align: right;\">\n",
       "      <th></th>\n",
       "      <th>StudyName</th>\n",
       "      <th>ExportDate</th>\n",
       "      <th>Name</th>\n",
       "      <th>Age</th>\n",
       "      <th>Gender</th>\n",
       "      <th>StimulusName</th>\n",
       "      <th>SlideType</th>\n",
       "      <th>EventSource</th>\n",
       "      <th>Timestamp</th>\n",
       "      <th>MediaTime</th>\n",
       "      <th>...</th>\n",
       "      <th>FixationDuration</th>\n",
       "      <th>FixationAOI</th>\n",
       "      <th>PostMarker</th>\n",
       "      <th>Annotation</th>\n",
       "      <th>LiveMarker</th>\n",
       "      <th>KeyStroke</th>\n",
       "      <th>MarkerText</th>\n",
       "      <th>SceneType</th>\n",
       "      <th>SceneOutput</th>\n",
       "      <th>SceneParent</th>\n",
       "    </tr>\n",
       "  </thead>\n",
       "  <tbody>\n",
       "    <tr>\n",
       "      <th>0</th>\n",
       "      <td>Dina Pilot Study_Local</td>\n",
       "      <td>20171226</td>\n",
       "      <td>Respondent 11</td>\n",
       "      <td>22</td>\n",
       "      <td>MALE</td>\n",
       "      <td>EmergencyDispatchingSimulator1</td>\n",
       "      <td>TestImage</td>\n",
       "      <td>ET</td>\n",
       "      <td>220001</td>\n",
       "      <td>NaN</td>\n",
       "      <td>...</td>\n",
       "      <td>NaN</td>\n",
       "      <td>NaN</td>\n",
       "      <td>NaN</td>\n",
       "      <td>NaN</td>\n",
       "      <td>NaN</td>\n",
       "      <td>NaN</td>\n",
       "      <td>NaN</td>\n",
       "      <td>NaN</td>\n",
       "      <td>NaN</td>\n",
       "      <td>NaN</td>\n",
       "    </tr>\n",
       "    <tr>\n",
       "      <th>1</th>\n",
       "      <td>Dina Pilot Study_Local</td>\n",
       "      <td>20171226</td>\n",
       "      <td>Respondent 11</td>\n",
       "      <td>22</td>\n",
       "      <td>MALE</td>\n",
       "      <td>EmergencyDispatchingSimulator1</td>\n",
       "      <td>TestImage</td>\n",
       "      <td>ET</td>\n",
       "      <td>220004</td>\n",
       "      <td>NaN</td>\n",
       "      <td>...</td>\n",
       "      <td>NaN</td>\n",
       "      <td>NaN</td>\n",
       "      <td>NaN</td>\n",
       "      <td>NaN</td>\n",
       "      <td>NaN</td>\n",
       "      <td>NaN</td>\n",
       "      <td>NaN</td>\n",
       "      <td>NaN</td>\n",
       "      <td>NaN</td>\n",
       "      <td>NaN</td>\n",
       "    </tr>\n",
       "    <tr>\n",
       "      <th>2</th>\n",
       "      <td>Dina Pilot Study_Local</td>\n",
       "      <td>20171226</td>\n",
       "      <td>Respondent 11</td>\n",
       "      <td>22</td>\n",
       "      <td>MALE</td>\n",
       "      <td>EmergencyDispatchingSimulator1</td>\n",
       "      <td>TestImage</td>\n",
       "      <td>ET</td>\n",
       "      <td>220012</td>\n",
       "      <td>NaN</td>\n",
       "      <td>...</td>\n",
       "      <td>NaN</td>\n",
       "      <td>NaN</td>\n",
       "      <td>NaN</td>\n",
       "      <td>NaN</td>\n",
       "      <td>NaN</td>\n",
       "      <td>NaN</td>\n",
       "      <td>NaN</td>\n",
       "      <td>NaN</td>\n",
       "      <td>NaN</td>\n",
       "      <td>NaN</td>\n",
       "    </tr>\n",
       "    <tr>\n",
       "      <th>3</th>\n",
       "      <td>Dina Pilot Study_Local</td>\n",
       "      <td>20171226</td>\n",
       "      <td>Respondent 11</td>\n",
       "      <td>22</td>\n",
       "      <td>MALE</td>\n",
       "      <td>EmergencyDispatchingSimulator1</td>\n",
       "      <td>TestImage</td>\n",
       "      <td>ET</td>\n",
       "      <td>220021</td>\n",
       "      <td>NaN</td>\n",
       "      <td>...</td>\n",
       "      <td>NaN</td>\n",
       "      <td>NaN</td>\n",
       "      <td>NaN</td>\n",
       "      <td>NaN</td>\n",
       "      <td>NaN</td>\n",
       "      <td>NaN</td>\n",
       "      <td>NaN</td>\n",
       "      <td>NaN</td>\n",
       "      <td>NaN</td>\n",
       "      <td>NaN</td>\n",
       "    </tr>\n",
       "    <tr>\n",
       "      <th>4</th>\n",
       "      <td>Dina Pilot Study_Local</td>\n",
       "      <td>20171226</td>\n",
       "      <td>Respondent 11</td>\n",
       "      <td>22</td>\n",
       "      <td>MALE</td>\n",
       "      <td>EmergencyDispatchingSimulator1</td>\n",
       "      <td>TestImage</td>\n",
       "      <td>ET</td>\n",
       "      <td>220029</td>\n",
       "      <td>NaN</td>\n",
       "      <td>...</td>\n",
       "      <td>NaN</td>\n",
       "      <td>NaN</td>\n",
       "      <td>NaN</td>\n",
       "      <td>NaN</td>\n",
       "      <td>NaN</td>\n",
       "      <td>NaN</td>\n",
       "      <td>NaN</td>\n",
       "      <td>NaN</td>\n",
       "      <td>NaN</td>\n",
       "      <td>NaN</td>\n",
       "    </tr>\n",
       "  </tbody>\n",
       "</table>\n",
       "<p>5 rows × 49 columns</p>\n",
       "</div>"
      ],
      "text/plain": [
       "                StudyName  ExportDate           Name  Age Gender  \\\n",
       "0  Dina Pilot Study_Local    20171226  Respondent 11   22   MALE   \n",
       "1  Dina Pilot Study_Local    20171226  Respondent 11   22   MALE   \n",
       "2  Dina Pilot Study_Local    20171226  Respondent 11   22   MALE   \n",
       "3  Dina Pilot Study_Local    20171226  Respondent 11   22   MALE   \n",
       "4  Dina Pilot Study_Local    20171226  Respondent 11   22   MALE   \n",
       "\n",
       "                     StimulusName  SlideType EventSource  Timestamp  \\\n",
       "0  EmergencyDispatchingSimulator1  TestImage          ET     220001   \n",
       "1  EmergencyDispatchingSimulator1  TestImage          ET     220004   \n",
       "2  EmergencyDispatchingSimulator1  TestImage          ET     220012   \n",
       "3  EmergencyDispatchingSimulator1  TestImage          ET     220021   \n",
       "4  EmergencyDispatchingSimulator1  TestImage          ET     220029   \n",
       "\n",
       "   MediaTime     ...       FixationDuration  FixationAOI  PostMarker  \\\n",
       "0        NaN     ...                    NaN          NaN         NaN   \n",
       "1        NaN     ...                    NaN          NaN         NaN   \n",
       "2        NaN     ...                    NaN          NaN         NaN   \n",
       "3        NaN     ...                    NaN          NaN         NaN   \n",
       "4        NaN     ...                    NaN          NaN         NaN   \n",
       "\n",
       "   Annotation  LiveMarker  KeyStroke  MarkerText  SceneType  SceneOutput  \\\n",
       "0         NaN         NaN        NaN         NaN        NaN          NaN   \n",
       "1         NaN         NaN        NaN         NaN        NaN          NaN   \n",
       "2         NaN         NaN        NaN         NaN        NaN          NaN   \n",
       "3         NaN         NaN        NaN         NaN        NaN          NaN   \n",
       "4         NaN         NaN        NaN         NaN        NaN          NaN   \n",
       "\n",
       "   SceneParent  \n",
       "0          NaN  \n",
       "1          NaN  \n",
       "2          NaN  \n",
       "3          NaN  \n",
       "4          NaN  \n",
       "\n",
       "[5 rows x 49 columns]"
      ]
     },
     "execution_count": 3,
     "metadata": {},
     "output_type": "execute_result"
    }
   ],
   "source": [
    "df.head()"
   ]
  },
  {
   "cell_type": "code",
   "execution_count": 4,
   "metadata": {},
   "outputs": [
    {
     "data": {
      "text/plain": [
       "Index(['Timestamp', 'MediaTime', 'TimeSignal', 'GazeLeftx', 'GazeLefty',\n",
       "       'GazeRightx', 'GazeRighty', 'PupilLeft', 'PupilRight', 'DistanceLeft',\n",
       "       'DistanceRight', 'CameraLeftX', 'CameraLeftY', 'CameraRightX',\n",
       "       'CameraRightY', 'ValidityLeft', 'ValidityRight', 'GazeX', 'GazeY',\n",
       "       'GazeAOI', 'InterpolatedGazeX', 'InterpolatedGazeY', 'GazeEventType',\n",
       "       'GazeVelocityAngle', 'SaccadeSeq', 'SaccadeStart', 'SaccadeDuration',\n",
       "       'FixationSeq', 'FixationX', 'FixationY', 'FixationStart',\n",
       "       'FixationDuration', 'FixationAOI'],\n",
       "      dtype='object')"
      ]
     },
     "execution_count": 4,
     "metadata": {},
     "output_type": "execute_result"
    }
   ],
   "source": [
    "df.columns[8:41]"
   ]
  },
  {
   "cell_type": "code",
   "execution_count": 5,
   "metadata": {},
   "outputs": [],
   "source": [
    "col_useful = ['StimulusName','FixationSeq', 'FixationX', 'FixationY',\n",
    "       'FixationDuration']"
   ]
  },
  {
   "cell_type": "code",
   "execution_count": 6,
   "metadata": {},
   "outputs": [],
   "source": [
    "df = df[col_useful]"
   ]
  },
  {
   "cell_type": "code",
   "execution_count": 7,
   "metadata": {},
   "outputs": [],
   "source": [
    "df.dropna(axis=0,how='any',inplace=True)"
   ]
  },
  {
   "cell_type": "code",
   "execution_count": 8,
   "metadata": {},
   "outputs": [
    {
     "data": {
      "text/html": [
       "<div>\n",
       "<style scoped>\n",
       "    .dataframe tbody tr th:only-of-type {\n",
       "        vertical-align: middle;\n",
       "    }\n",
       "\n",
       "    .dataframe tbody tr th {\n",
       "        vertical-align: top;\n",
       "    }\n",
       "\n",
       "    .dataframe thead th {\n",
       "        text-align: right;\n",
       "    }\n",
       "</style>\n",
       "<table border=\"1\" class=\"dataframe\">\n",
       "  <thead>\n",
       "    <tr style=\"text-align: right;\">\n",
       "      <th></th>\n",
       "      <th>StimulusName</th>\n",
       "      <th>FixationSeq</th>\n",
       "      <th>FixationX</th>\n",
       "      <th>FixationY</th>\n",
       "      <th>FixationDuration</th>\n",
       "    </tr>\n",
       "  </thead>\n",
       "  <tbody>\n",
       "    <tr>\n",
       "      <th>657</th>\n",
       "      <td>EmergencyDispatchingSimulator1</td>\n",
       "      <td>1.0</td>\n",
       "      <td>1073.0</td>\n",
       "      <td>451.0</td>\n",
       "      <td>507.0</td>\n",
       "    </tr>\n",
       "  </tbody>\n",
       "</table>\n",
       "</div>"
      ],
      "text/plain": [
       "                       StimulusName  FixationSeq  FixationX  FixationY  \\\n",
       "657  EmergencyDispatchingSimulator1          1.0     1073.0      451.0   \n",
       "\n",
       "     FixationDuration  \n",
       "657             507.0  "
      ]
     },
     "execution_count": 8,
     "metadata": {},
     "output_type": "execute_result"
    }
   ],
   "source": [
    "df.head(1)"
   ]
  },
  {
   "cell_type": "code",
   "execution_count": 9,
   "metadata": {},
   "outputs": [],
   "source": [
    "t = df.drop_duplicates().loc[ df.StimulusName =='EmergencyDispatchingSimulator1', :] #.groupby(by='StimulusName').count()['FixationSeq']"
   ]
  },
  {
   "cell_type": "code",
   "execution_count": 41,
   "metadata": {},
   "outputs": [],
   "source": [
    "from eyesmetriccalculator import EyesMetricCalculator"
   ]
  },
  {
   "cell_type": "code",
   "execution_count": 42,
   "metadata": {},
   "outputs": [
    {
     "data": {
      "text/plain": [
       "array([[10, 20],\n",
       "       [30, 40],\n",
       "       [ 5, 10]])"
      ]
     },
     "execution_count": 42,
     "metadata": {},
     "output_type": "execute_result"
    }
   ],
   "source": [
    "np.array([[10,20],[30,40],[5,10]])"
   ]
  },
  {
   "cell_type": "code",
   "execution_count": 69,
   "metadata": {},
   "outputs": [],
   "source": [
    "from eyesmetriccalculator import EyesMetricCalculator\n",
    "df = np.array([[0,0],[100,50],[78,31]])\n",
    "ec = EyesMetricCalculator(df,(100,50))"
   ]
  },
  {
   "cell_type": "code",
   "execution_count": 70,
   "metadata": {},
   "outputs": [
    {
     "data": {
      "text/plain": [
       "0.3"
      ]
     },
     "execution_count": 70,
     "metadata": {},
     "output_type": "execute_result"
    }
   ],
   "source": [
    "ec.spatialDensity(50,10).compute()"
   ]
  },
  {
   "cell_type": "code",
   "execution_count": 71,
   "metadata": {},
   "outputs": [],
   "source": [
    "ld,n = ec.NNI().compute()"
   ]
  },
  {
   "cell_type": "code",
   "execution_count": 64,
   "metadata": {},
   "outputs": [
    {
     "data": {
      "text/plain": [
       "[83.93449827097318, 29.068883707497267, 29.068883707497267]"
      ]
     },
     "execution_count": 64,
     "metadata": {},
     "output_type": "execute_result"
    }
   ],
   "source": [
    "i"
   ]
  },
  {
   "cell_type": "code",
   "execution_count": 67,
   "metadata": {},
   "outputs": [],
   "source": [
    "avg = np.mean(ld)\n",
    "dran = 0.5 * np.sqrt((100*50)/len(ld))"
   ]
  },
  {
   "cell_type": "code",
   "execution_count": 68,
   "metadata": {},
   "outputs": [
    {
     "data": {
      "text/plain": [
       "2.3200303835449625"
      ]
     },
     "execution_count": 68,
     "metadata": {},
     "output_type": "execute_result"
    }
   ],
   "source": [
    "avg/dran"
   ]
  },
  {
   "cell_type": "code",
   "execution_count": 72,
   "metadata": {},
   "outputs": [
    {
     "data": {
      "text/plain": [
       "([83.93449827097318, 29.068883707497267, 29.068883707497267],\n",
       " 2.3200303835449625)"
      ]
     },
     "execution_count": 72,
     "metadata": {},
     "output_type": "execute_result"
    }
   ],
   "source": [
    "ec.NNI().compute()"
   ]
  },
  {
   "cell_type": "code",
   "execution_count": 76,
   "metadata": {},
   "outputs": [
    {
     "ename": "TypeError",
     "evalue": "isinstance() arg 2 must be a type or tuple of types",
     "output_type": "error",
     "traceback": [
      "\u001b[1;31m---------------------------------------------------------------------------\u001b[0m",
      "\u001b[1;31mTypeError\u001b[0m                                 Traceback (most recent call last)",
      "\u001b[1;32m<ipython-input-76-6314a7646c60>\u001b[0m in \u001b[0;36m<module>\u001b[1;34m()\u001b[0m\n\u001b[1;32m----> 1\u001b[1;33m \u001b[0misinstance\u001b[0m\u001b[1;33m(\u001b[0m\u001b[0mnp\u001b[0m\u001b[1;33m.\u001b[0m\u001b[0marray\u001b[0m\u001b[1;33m(\u001b[0m\u001b[1;33m[\u001b[0m\u001b[1;33m[\u001b[0m\u001b[1;36m1\u001b[0m\u001b[1;33m,\u001b[0m\u001b[1;36m2\u001b[0m\u001b[1;33m]\u001b[0m\u001b[1;33m]\u001b[0m\u001b[1;33m)\u001b[0m\u001b[1;33m,\u001b[0m\u001b[0mnp\u001b[0m\u001b[1;33m.\u001b[0m\u001b[0marray\u001b[0m\u001b[1;33m)\u001b[0m\u001b[1;33m\u001b[0m\u001b[0m\n\u001b[0m",
      "\u001b[1;31mTypeError\u001b[0m: isinstance() arg 2 must be a type or tuple of types"
     ]
    }
   ],
   "source": [
    "isinstance(np.array([[1,2]]),np.array)"
   ]
  },
  {
   "cell_type": "code",
   "execution_count": 75,
   "metadata": {},
   "outputs": [
    {
     "data": {
      "text/plain": [
       "array([[1, 2]])"
      ]
     },
     "execution_count": 75,
     "metadata": {},
     "output_type": "execute_result"
    }
   ],
   "source": []
  },
  {
   "cell_type": "code",
   "execution_count": null,
   "metadata": {},
   "outputs": [],
   "source": []
  }
 ],
 "metadata": {
  "kernelspec": {
   "display_name": "Python 3",
   "language": "python",
   "name": "python3"
  },
  "language_info": {
   "codemirror_mode": {
    "name": "ipython",
    "version": 3
   },
   "file_extension": ".py",
   "mimetype": "text/x-python",
   "name": "python",
   "nbconvert_exporter": "python",
   "pygments_lexer": "ipython3",
   "version": "3.6.5"
  }
 },
 "nbformat": 4,
 "nbformat_minor": 2
}
