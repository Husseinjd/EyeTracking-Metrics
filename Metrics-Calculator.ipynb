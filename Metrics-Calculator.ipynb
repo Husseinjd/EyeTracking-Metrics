{
 "cells": [
  {
   "cell_type": "code",
   "execution_count": 135,
   "metadata": {},
   "outputs": [
    {
     "name": "stdout",
     "output_type": "stream",
     "text": [
      "The autoreload extension is already loaded. To reload it, use:\n",
      "  %reload_ext autoreload\n"
     ]
    }
   ],
   "source": [
    "import numpy as np\n",
    "%load_ext autoreload\n",
    "%autoreload 2"
   ]
  },
  {
   "cell_type": "code",
   "execution_count": 136,
   "metadata": {},
   "outputs": [],
   "source": [
    "screen_width = 1920\n",
    "screen_length = 1200 \n",
    "\n",
    "cellx = 30 \n",
    "celly = 40 \n",
    "\n",
    "x = np.random.randint(1,1900,(100,1))\n",
    "y = np.random.randint(1,1200,(100,1))\n",
    "duration = np.random.randint(50,3000,(100,1))\n",
    "\n",
    "\n",
    "dt =  np.zeros((100,3))\n",
    "dt[:,:1] = x\n",
    "dt[:,1:2] =  y \n",
    "dt[:,2:3] = duration"
   ]
  },
  {
   "cell_type": "code",
   "execution_count": 137,
   "metadata": {},
   "outputs": [
    {
     "name": "stdout",
     "output_type": "stream",
     "text": [
      "ConvexHullArea  :  5384.5225940339105\n",
      "SpatialDensity  :  0.0515625\n",
      "NNI Metric  :  0.9851678623456955\n"
     ]
    }
   ],
   "source": [
    "from eyesmetriccalculator import EyesMetricCalculator\n",
    "\n",
    "ec = EyesMetricCalculator(dt,(screen_width,screen_length))\n",
    "\n",
    "print('ConvexHullArea  : ' ,ec.convexHull('area').compute() )\n",
    "print('SpatialDensity  : ' , ec.spatialDensity(cellx,celly).compute())\n",
    "print('NNI Metric  : ' , ec.NNI().compute())"
   ]
  },
  {
   "cell_type": "code",
   "execution_count": 85,
   "metadata": {},
   "outputs": [],
   "source": []
  }
 ],
 "metadata": {
  "kernelspec": {
   "display_name": "Python 3",
   "language": "python",
   "name": "python3"
  },
  "language_info": {
   "codemirror_mode": {
    "name": "ipython",
    "version": 3
   },
   "file_extension": ".py",
   "mimetype": "text/x-python",
   "name": "python",
   "nbconvert_exporter": "python",
   "pygments_lexer": "ipython3",
   "version": "3.6.5"
  }
 },
 "nbformat": 4,
 "nbformat_minor": 2
}
