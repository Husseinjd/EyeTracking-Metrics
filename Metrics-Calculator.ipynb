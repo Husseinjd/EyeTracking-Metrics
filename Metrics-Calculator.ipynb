{
 "cells": [
  {
   "cell_type": "code",
   "execution_count": 1,
   "metadata": {},
   "outputs": [],
   "source": [
    "import numpy as np\n",
    "%load_ext autoreload\n",
    "%autoreload 2"
   ]
  },
  {
   "cell_type": "code",
   "execution_count": 2,
   "metadata": {},
   "outputs": [],
   "source": [
    "screen_width = 1920\n",
    "screen_length = 1200 \n",
    "\n",
    "cellx = 30 \n",
    "celly = 40 \n",
    "\n",
    "x = np.random.randint(1,1900,(100,1))\n",
    "y = np.random.randint(1,1200,(100,1))\n",
    "duration = np.random.randint(50,3000,(100,1))\n",
    "\n",
    "\n",
    "dt =  np.zeros((100,3))\n",
    "dt[:,:1] = x\n",
    "dt[:,1:2] =  y \n",
    "dt[:,2:3] = duration"
   ]
  },
  {
   "cell_type": "markdown",
   "metadata": {},
   "source": [
    "# AOI and Transition Matrix"
   ]
  },
  {
   "cell_type": "code",
   "execution_count": 3,
   "metadata": {},
   "outputs": [
    {
     "data": {
      "text/plain": [
       "array([[14,  0, 17],\n",
       "       [84,  9, 53],\n",
       "       [ 7, 91,  0],\n",
       "       [71, 37, 63],\n",
       "       [33, 45, 99]])"
      ]
     },
     "execution_count": 3,
     "metadata": {},
     "output_type": "execute_result"
    }
   ],
   "source": [
    "np.random.randint(0,100,(5,3))"
   ]
  },
  {
   "cell_type": "code",
   "execution_count": 4,
   "metadata": {
    "scrolled": false
   },
   "outputs": [
    {
     "name": "stdout",
     "output_type": "stream",
     "text": [
      "The Gaze Transition Matrix\n",
      "              aoi_poly1  aoi_circle2  aoi_poly2\n",
      "aoi_poly1          2.0          2.0        0.0\n",
      "aoi_circle2        1.0          0.0        0.0\n",
      "aoi_poly2          0.0          0.0        0.0 \n",
      "\n",
      "Number of Points outside all AOIs : 2\n",
      "Probability of having Points in aoi_poly1:  0.5555555555555556\n",
      "Probability of having Points in aoi_circle2:  0.2222222222222222\n",
      "Probability of having Points in aoi_poly2:  0.0\n",
      "Plot representation\n"
     ]
    },
    {
     "data": {
      "text/plain": [
       "<Figure size 1200x900 with 1 Axes>"
      ]
     },
     "metadata": {},
     "output_type": "display_data"
    }
   ],
   "source": [
    "from transition_matrix import *\n",
    "\n",
    "#Setting important variables\n",
    "TEST_SCREENDIM = [1920, 1200]\n",
    "TEST_RADIUS = 100\n",
    "TEST_VERTICES_1 = [[ 20,20] , [400,250], [40,400]]\n",
    "TEST_VERTICES_2 = [[800,800], [1000,800], [700,650]]\n",
    "\n",
    "\n",
    "#An AOI dict having all the important areas of interest that will be used to calculate different metrics\n",
    "TEST_AOI_DICT = {\n",
    "                'aoi_poly1': PolyAOI(TEST_SCREENDIM,TEST_VERTICES_1),\n",
    "                'aoi_circle2': CircleAOI(TEST_SCREENDIM, TEST_RADIUS, center=[500,500]),\n",
    "                'aoi_poly2': PolyAOI(TEST_SCREENDIM,TEST_VERTICES_2)\n",
    "                }\n",
    "\n",
    "#Dummy Gaze values\n",
    "GAZE_ARRAY = np.array([\n",
    "    [41, 41, 0],\n",
    "    [80, 80, 0],\n",
    "    [501, 501, 0],\n",
    "    [100, 200, 0],\n",
    "    [1002, 1002, 0],\n",
    "    [400, 400, 0],\n",
    "    [200, 200, 0],\n",
    "    [250, 250, 0],\n",
    "    [540, 540, 0]])\n",
    "\n",
    "gz = GazeTransitions(TEST_SCREENDIM, TEST_AOI_DICT, GAZE_ARRAY)\n",
    "print('The Gaze Transition Matrix\\n',gz.get_transition_matrix(),'\\n')\n",
    "print('Number of Points outside all AOIs :',gz.points_outside_aoi)\n",
    "for n,a in TEST_AOI_DICT.items():\n",
    "    print('Probability of having Points in '+ n +': ',gz.get_prob_aoi(n))\n",
    "print('Plot representation')\n",
    "gz.plot_all(annotate_points=True)"
   ]
  },
  {
   "cell_type": "markdown",
   "metadata": {},
   "source": [
    "# Entropy Metrics"
   ]
  },
  {
   "cell_type": "markdown",
   "metadata": {},
   "source": [
    "For entropy two metrics will be calculated as mentioned in the Paper Krejtz et al., 2014\n",
    "\n",
    "Gaze Transition Entropy:  \n",
    "\\begin{equation*}\n",
    "    H_t =- \\sum_i \\pi_i \\sum_j p_{ij}log p_{ij}\n",
    "\\end{equation*}\n",
    "\n",
    "Gaze Stationary Entropy:\n",
    "\n",
    "\\begin{equation*}\n",
    "    H_s =- \\sum_i \\pi_i log \\pi_i\n",
    "\\end{equation*}\n",
    "\n",
    "where  $p_{ij} = \\frac{n_{ij}}{n}$  and $\\pi_i = \\frac{n_i}{n} $\n",
    "\n",
    "\n",
    " "
   ]
  },
  {
   "cell_type": "code",
   "execution_count": 8,
   "metadata": {},
   "outputs": [
    {
     "ename": "SyntaxError",
     "evalue": "invalid syntax (entropy.py, line 3)",
     "output_type": "error",
     "traceback": [
      "Traceback \u001b[1;36m(most recent call last)\u001b[0m:\n",
      "  File \u001b[0;32m\"C:\\ProgramData\\Anaconda3\\lib\\site-packages\\IPython\\core\\interactiveshell.py\"\u001b[0m, line \u001b[0;32m2963\u001b[0m, in \u001b[0;35mrun_code\u001b[0m\n    exec(code_obj, self.user_global_ns, self.user_ns)\n",
      "  File \u001b[0;32m\"<ipython-input-8-4c030af207b0>\"\u001b[0m, line \u001b[0;32m1\u001b[0m, in \u001b[0;35m<module>\u001b[0m\n    from eyesmetriccalculator import EyesMetricCalculator\n",
      "  File \u001b[0;32m\"C:\\Users\\PC\\Desktop\\EyeTracking-Metrics\\eyesmetriccalculator.py\"\u001b[0m, line \u001b[0;32m1\u001b[0m, in \u001b[0;35m<module>\u001b[0m\n    from metrics import *\n",
      "\u001b[1;36m  File \u001b[1;32m\"C:\\Users\\PC\\Desktop\\EyeTracking-Metrics\\metrics\\__init__.py\"\u001b[1;36m, line \u001b[1;32m4\u001b[1;36m, in \u001b[1;35m<module>\u001b[1;36m\u001b[0m\n\u001b[1;33m    from .entropy import GazeEntropy\u001b[0m\n",
      "\u001b[1;36m  File \u001b[1;32m\"C:\\Users\\PC\\Desktop\\EyeTracking-Metrics\\metrics\\entropy.py\"\u001b[1;36m, line \u001b[1;32m3\u001b[0m\n\u001b[1;33m    from EyeTracking-Metrics.transition_matrix import *\u001b[0m\n\u001b[1;37m                    ^\u001b[0m\n\u001b[1;31mSyntaxError\u001b[0m\u001b[1;31m:\u001b[0m invalid syntax\n"
     ]
    }
   ],
   "source": [
    "from eyesmetriccalculator import EyesMetricCalculator\n",
    "\n",
    "ec = EyesMetricCalculator(dt,GAZE_ARRAY,(screen_width,screen_length))\n",
    "\n",
    "print('ConvexHullArea  : ' ,ec.convexHull('area').compute() )\n",
    "print('SpatialDensity  : ' , ec.spatialDensity(cellx,celly).compute())\n",
    "print('NNI Metric  : ' , ec.NNI().compute())\n",
    "print('NNI Metric  : ' , ec.GEntropy(TEST_AOI_DICT).compute())"
   ]
  },
  {
   "cell_type": "code",
   "execution_count": null,
   "metadata": {},
   "outputs": [],
   "source": [
    "tp = np.array([   [0.78,0.06,0.16] ,\n",
    "            [0.18,0.46,0.36],\n",
    "             [0.15,0.09,0.76]\n",
    "            ])\n",
    "\n",
    "sp = np.array([0.42,0.14,0.44])"
   ]
  },
  {
   "cell_type": "code",
   "execution_count": null,
   "metadata": {},
   "outputs": [],
   "source": [
    "tp"
   ]
  },
  {
   "cell_type": "code",
   "execution_count": null,
   "metadata": {},
   "outputs": [],
   "source": [
    "total_ht = 0\n",
    "\n",
    "for i in range(len(sp)):\n",
    "    ent_sum = 0\n",
    "    for j in range(len(tp)):\n",
    "        ent_sum += tp[i,j] * np.log(tp[i,j])\n",
    "    total_ht += sp[i] * ent_sum\n",
    "total_ht = np.around(total_ht,decimals=2) * -1"
   ]
  },
  {
   "cell_type": "code",
   "execution_count": null,
   "metadata": {},
   "outputs": [],
   "source": [
    "total_ht"
   ]
  },
  {
   "cell_type": "code",
   "execution_count": null,
   "metadata": {},
   "outputs": [],
   "source": [
    "#calculating HS\n",
    "s= 0\n",
    "for j in sp:\n",
    "        s +=j * np.log(j)\n",
    "s= s * -1\n",
    "s = np.around(s,decimals=2)\n",
    "s"
   ]
  },
  {
   "cell_type": "code",
   "execution_count": null,
   "metadata": {},
   "outputs": [],
   "source": [
    "gz.get_transition_matrix()/len(GAZE_ARRAY)"
   ]
  },
  {
   "cell_type": "code",
   "execution_count": null,
   "metadata": {},
   "outputs": [],
   "source": [
    "statprob_list = []\n",
    "for n,a in TEST_AOI_DICT.items():\n",
    "    statprob_list.append(gz.get_prob_aoi(n))\n",
    "statprob_list = np.array(statprob_list)"
   ]
  },
  {
   "cell_type": "code",
   "execution_count": null,
   "metadata": {},
   "outputs": [],
   "source": [
    "statprob_list"
   ]
  },
  {
   "cell_type": "code",
   "execution_count": null,
   "metadata": {},
   "outputs": [],
   "source": []
  },
  {
   "cell_type": "code",
   "execution_count": null,
   "metadata": {},
   "outputs": [],
   "source": []
  }
 ],
 "metadata": {
  "kernelspec": {
   "display_name": "Python 3",
   "language": "python",
   "name": "python3"
  },
  "language_info": {
   "codemirror_mode": {
    "name": "ipython",
    "version": 3
   },
   "file_extension": ".py",
   "mimetype": "text/x-python",
   "name": "python",
   "nbconvert_exporter": "python",
   "pygments_lexer": "ipython3",
   "version": "3.6.5"
  }
 },
 "nbformat": 4,
 "nbformat_minor": 2
}
