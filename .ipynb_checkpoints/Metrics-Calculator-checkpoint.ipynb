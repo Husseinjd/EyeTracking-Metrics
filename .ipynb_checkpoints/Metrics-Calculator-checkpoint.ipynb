{
 "cells": [
  {
   "cell_type": "code",
   "execution_count": 77,
   "metadata": {},
   "outputs": [
    {
     "name": "stdout",
     "output_type": "stream",
     "text": [
      "The autoreload extension is already loaded. To reload it, use:\n",
      "  %reload_ext autoreload\n"
     ]
    }
   ],
   "source": [
    "import numpy as np\n",
    "%load_ext autoreload\n",
    "%autoreload 2"
   ]
  },
  {
   "cell_type": "code",
   "execution_count": 111,
   "metadata": {},
   "outputs": [],
   "source": [
    "screen_width = 1920\n",
    "screen_length = 1200 \n",
    "\n",
    "cellx = 30 \n",
    "celly = 40 \n",
    "\n",
    "x = np.random.randint(1,1900,(100,1))\n",
    "y = np.random.randint(1,1200,(100,1))\n",
    "duration = np.random.randint(50,3000,(100,1))\n",
    "\n",
    "\n",
    "dt =  np.zeros((100,3))\n",
    "dt[:,:1] = x\n",
    "dt[:,1:2] =  y \n",
    "dt[:,2:3] = duration"
   ]
  },
  {
   "cell_type": "code",
   "execution_count": 112,
   "metadata": {},
   "outputs": [
    {
     "name": "stdout",
     "output_type": "stream",
     "text": [
      "ConvexHullArea  :  224.80678085345994\n"
     ]
    },
    {
     "ename": "AssertionError",
     "evalue": "Please change cellx to fit the screen width",
     "output_type": "error",
     "traceback": [
      "\u001b[1;31m---------------------------------------------------------------------------\u001b[0m",
      "\u001b[1;31mAssertionError\u001b[0m                            Traceback (most recent call last)",
      "\u001b[1;32m<ipython-input-112-6f2ded46d472>\u001b[0m in \u001b[0;36m<module>\u001b[1;34m()\u001b[0m\n\u001b[0;32m      4\u001b[0m \u001b[1;33m\u001b[0m\u001b[0m\n\u001b[0;32m      5\u001b[0m \u001b[0mprint\u001b[0m\u001b[1;33m(\u001b[0m\u001b[1;34m'ConvexHullArea  : '\u001b[0m \u001b[1;33m,\u001b[0m\u001b[0mec\u001b[0m\u001b[1;33m.\u001b[0m\u001b[0mconvexHull\u001b[0m\u001b[1;33m(\u001b[0m\u001b[1;33m)\u001b[0m\u001b[1;33m.\u001b[0m\u001b[0mcompute\u001b[0m\u001b[1;33m(\u001b[0m\u001b[1;33m)\u001b[0m \u001b[1;33m)\u001b[0m\u001b[1;33m\u001b[0m\u001b[0m\n\u001b[1;32m----> 6\u001b[1;33m \u001b[0mprint\u001b[0m\u001b[1;33m(\u001b[0m\u001b[1;34m'SpatialDensity  : '\u001b[0m \u001b[1;33m,\u001b[0m \u001b[0mec\u001b[0m\u001b[1;33m.\u001b[0m\u001b[0mspatialDensity\u001b[0m\u001b[1;33m(\u001b[0m\u001b[0mcellx\u001b[0m\u001b[1;33m,\u001b[0m\u001b[0mcelly\u001b[0m\u001b[1;33m)\u001b[0m\u001b[1;33m.\u001b[0m\u001b[0mcompute\u001b[0m\u001b[1;33m(\u001b[0m\u001b[1;33m)\u001b[0m\u001b[1;33m)\u001b[0m\u001b[1;33m\u001b[0m\u001b[0m\n\u001b[0m\u001b[0;32m      7\u001b[0m \u001b[0mprint\u001b[0m\u001b[1;33m(\u001b[0m\u001b[1;34m'NNI Metric  : '\u001b[0m \u001b[1;33m,\u001b[0m \u001b[0mec\u001b[0m\u001b[1;33m.\u001b[0m\u001b[0mNNI\u001b[0m\u001b[1;33m(\u001b[0m\u001b[1;33m)\u001b[0m\u001b[1;33m.\u001b[0m\u001b[0mcompute\u001b[0m\u001b[1;33m(\u001b[0m\u001b[1;33m)\u001b[0m\u001b[1;33m)\u001b[0m\u001b[1;33m\u001b[0m\u001b[0m\n",
      "\u001b[1;32m~\\Desktop\\Eyetracking-Metrics\\eyesmetriccalculator.py\u001b[0m in \u001b[0;36mspatialDensity\u001b[1;34m(self, cellx, celly)\u001b[0m\n\u001b[0;32m     64\u001b[0m             \u001b[1;32mraise\u001b[0m \u001b[0mException\u001b[0m\u001b[1;33m(\u001b[0m\u001b[1;34m'cell inputs should be positive'\u001b[0m\u001b[1;33m)\u001b[0m\u001b[1;33m\u001b[0m\u001b[0m\n\u001b[0;32m     65\u001b[0m \u001b[1;33m\u001b[0m\u001b[0m\n\u001b[1;32m---> 66\u001b[1;33m         \u001b[0mself\u001b[0m\u001b[1;33m.\u001b[0m\u001b[0m_check_dimensions\u001b[0m\u001b[1;33m(\u001b[0m\u001b[0mcellx\u001b[0m\u001b[1;33m,\u001b[0m \u001b[0mcelly\u001b[0m\u001b[1;33m)\u001b[0m  \u001b[1;31m# raises assertion error\u001b[0m\u001b[1;33m\u001b[0m\u001b[0m\n\u001b[0m\u001b[0;32m     67\u001b[0m \u001b[1;33m\u001b[0m\u001b[0m\n\u001b[0;32m     68\u001b[0m         \u001b[1;31m# compute spatial Density\u001b[0m\u001b[1;33m\u001b[0m\u001b[1;33m\u001b[0m\u001b[0m\n",
      "\u001b[1;32m~\\Desktop\\Eyetracking-Metrics\\eyesmetriccalculator.py\u001b[0m in \u001b[0;36m_check_dimensions\u001b[1;34m(self, cellx, celly)\u001b[0m\n\u001b[0;32m     94\u001b[0m         \u001b[1;31m# check width\u001b[0m\u001b[1;33m\u001b[0m\u001b[1;33m\u001b[0m\u001b[0m\n\u001b[0;32m     95\u001b[0m         assert(self.screen_dimensions[0] % cellx\n\u001b[1;32m---> 96\u001b[1;33m                == 0), \"Please change cellx to fit the screen width\"\n\u001b[0m\u001b[0;32m     97\u001b[0m         \u001b[1;31m# check width\u001b[0m\u001b[1;33m\u001b[0m\u001b[1;33m\u001b[0m\u001b[0m\n\u001b[0;32m     98\u001b[0m         assert(self.screen_dimensions[1] % celly\n",
      "\u001b[1;31mAssertionError\u001b[0m: Please change cellx to fit the screen width"
     ]
    }
   ],
   "source": [
    "from eyesmetriccalculator import EyesMetricCalculator\n",
    "\n",
    "ec = EyesMetricCalculator(dt,(screen_width,screen_length))\n",
    "\n",
    "print('ConvexHullArea  : ' ,ec.convexHull().compute() )\n",
    "print('SpatialDensity  : ' , ec.spatialDensity(cellx,celly).compute())\n",
    "print('NNI Metric  : ' , ec.NNI().compute())"
   ]
  },
  {
   "cell_type": "code",
   "execution_count": 85,
   "metadata": {},
   "outputs": [],
   "source": []
  }
 ],
 "metadata": {
  "kernelspec": {
   "display_name": "Python 3",
   "language": "python",
   "name": "python3"
  },
  "language_info": {
   "codemirror_mode": {
    "name": "ipython",
    "version": 3
   },
   "file_extension": ".py",
   "mimetype": "text/x-python",
   "name": "python",
   "nbconvert_exporter": "python",
   "pygments_lexer": "ipython3",
   "version": "3.6.5"
  }
 },
 "nbformat": 4,
 "nbformat_minor": 2
}
